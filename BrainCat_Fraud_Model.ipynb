{
  "nbformat": 4,
  "nbformat_minor": 0,
  "metadata": {
    "colab": {
      "provenance": []
    },
    "kernelspec": {
      "name": "python3",
      "display_name": "Python 3"
    },
    "language_info": {
      "name": "python"
    }
  },
  "cells": [
    {
      "cell_type": "code",
      "source": [
        "from IPython.core.interactiveshell import InteractiveShell\n",
        "InteractiveShell.ast_node_interactivity = \"all\""
      ],
      "metadata": {
        "id": "SEHT9PvRvGrq"
      },
      "execution_count": 23,
      "outputs": []
    },
    {
      "cell_type": "code",
      "execution_count": 16,
      "metadata": {
        "id": "rbpsNd-0elkn"
      },
      "outputs": [],
      "source": [
        "#read all the data files into python from a zip file\n",
        "def read_files(zip_file,file_name):\n",
        "  import pandas as pd\n",
        "  from zipfile import ZipFile, ZIP_DEFLATED\n",
        "  #Zip file\n",
        "  zf= ZipFile(zip_file)\n",
        "  #read desired Data file into python\n",
        "  df = pd.read_csv(zf.open(file_name))\n",
        "  #save the data file into python\n",
        "  return df\n",
        "\n",
        "Transcations_df= read_files(\"transactions_train.csv.zip\",'transactions_train.csv')"
      ]
    },
    {
      "cell_type": "code",
      "source": [
        "def intial_transformation(df, drop_columns):\n",
        "  # check for number of NaN values and number of duplicates in dataset\n",
        "  Num_NaN = df.isna().sum()\n",
        "  Num_Dups = df.duplicated().sum()\n",
        "  # display number of NaNs and duplicates\n",
        "  print(\"Number of NaN:\",\"\\n\", f\"{Num_NaN}\",\"\\n\")\n",
        "  print(f\"Number of Duplicates: {Num_Dups}\",\"\\n\")\n",
        "\n",
        "  #drop duplicates and NaN (if none skip)\n",
        "  if Num_NaN.sum()!=0:\n",
        "    df = df.dropna()\n",
        "  if Num_Dups!=0:\n",
        "    df = df.drop_duplicates()\n",
        "\n",
        "  #drop columns that are not being used\n",
        "  df = df.drop(drop_columns, axis=1)\n",
        "\n",
        "  #find new shape and see first 5 rows\n",
        "  print(f\"{df.shape}\",\"\\n\")\n",
        "  print(df.head(5))\n",
        "\n",
        "  return df\n",
        "\n",
        "Transcations_df = intial_transformation(Transcations_df, [\"nameOrig\",\"nameDest\"])"
      ],
      "metadata": {
        "colab": {
          "base_uri": "https://localhost:8080/"
        },
        "id": "R6-fMDecj7oI",
        "outputId": "e35a9201-eefc-4940-d0ec-d1fd026f2b90"
      },
      "execution_count": 40,
      "outputs": [
        {
          "output_type": "stream",
          "name": "stdout",
          "text": [
            "Number of NaN: \n",
            " step              0\n",
            "type              0\n",
            "amount            0\n",
            "nameOrig          0\n",
            "oldbalanceOrig    0\n",
            "newbalanceOrig    0\n",
            "nameDest          0\n",
            "oldbalanceDest    0\n",
            "newbalanceDest    0\n",
            "isFraud           0\n",
            "dtype: int64 \n",
            "\n",
            "Number of Duplicates: 0 \n",
            "\n",
            "(6351193, 8) \n",
            "\n",
            "   step      type    amount  oldbalanceOrig  newbalanceOrig  oldbalanceDest  \\\n",
            "0     1   PAYMENT   9839.64        170136.0       160296.36             0.0   \n",
            "1     1   PAYMENT   1864.28         21249.0        19384.72             0.0   \n",
            "2     1  TRANSFER    181.00           181.0            0.00             0.0   \n",
            "3     1  CASH_OUT    181.00           181.0            0.00         21182.0   \n",
            "4     1   PAYMENT  11668.14         41554.0        29885.86             0.0   \n",
            "\n",
            "   newbalanceDest  isFraud  \n",
            "0             0.0        0  \n",
            "1             0.0        0  \n",
            "2             0.0        1  \n",
            "3             0.0        1  \n",
            "4             0.0        0  \n"
          ]
        }
      ]
    }
  ]
}